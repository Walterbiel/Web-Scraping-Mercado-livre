{
 "cells": [
  {
   "cell_type": "code",
   "execution_count": 1,
   "metadata": {},
   "outputs": [],
   "source": [
    "import pandas as pd\n",
    "import duckdb"
   ]
  },
  {
   "cell_type": "code",
   "execution_count": 8,
   "metadata": {},
   "outputs": [
    {
     "name": "stdout",
     "output_type": "stream",
     "text": [
      "[]\n"
     ]
    }
   ],
   "source": [
    "\n",
    "\n",
    "# Substitua 'seu_arquivo.duckdb' pelo nome do seu arquivo DuckDB\n",
    "conn = duckdb.connect('mercadolivre.db')\n",
    "\n",
    "# Exemplo de como listar as tabelas no arquivo\n",
    "print(conn.execute(\"SHOW TABLES\").fetchall())\n",
    "\n",
    "\n"
   ]
  },
  {
   "cell_type": "code",
   "execution_count": 9,
   "metadata": {},
   "outputs": [
    {
     "ename": "CatalogException",
     "evalue": "Catalog Error: Table with name produtos does not exist!\nDid you mean \"pragma_database_list\"?\nLINE 1: SELECT * FROM produtos\n                      ^",
     "output_type": "error",
     "traceback": [
      "\u001b[0;31m---------------------------------------------------------------------------\u001b[0m",
      "\u001b[0;31mCatalogException\u001b[0m                          Traceback (most recent call last)",
      "Cell \u001b[0;32mIn[9], line 2\u001b[0m\n\u001b[1;32m      1\u001b[0m \u001b[38;5;66;03m# Exemplo de como consultar uma tabela chamada 'sua_tabela'\u001b[39;00m\n\u001b[0;32m----> 2\u001b[0m resultado \u001b[38;5;241m=\u001b[39m \u001b[43mconn\u001b[49m\u001b[38;5;241;43m.\u001b[39;49m\u001b[43mexecute\u001b[49m\u001b[43m(\u001b[49m\u001b[38;5;124;43m\"\u001b[39;49m\u001b[38;5;124;43mSELECT * FROM produtos\u001b[39;49m\u001b[38;5;124;43m\"\u001b[39;49m\u001b[43m)\u001b[49m\u001b[38;5;241m.\u001b[39mfetchdf()\n\u001b[1;32m      3\u001b[0m \u001b[38;5;28mprint\u001b[39m(resultado)\n\u001b[1;32m      5\u001b[0m \u001b[38;5;66;03m# Fechar a conexão ao finalizar\u001b[39;00m\n",
      "\u001b[0;31mCatalogException\u001b[0m: Catalog Error: Table with name produtos does not exist!\nDid you mean \"pragma_database_list\"?\nLINE 1: SELECT * FROM produtos\n                      ^"
     ]
    }
   ],
   "source": [
    "# Exemplo de como consultar uma tabela chamada 'sua_tabela'\n",
    "resultado = conn.execute(\"SELECT * FROM produtos\").fetchdf()\n",
    "print(resultado)\n",
    "\n",
    "# Fechar a conexão ao finalizar\n",
    "conn.close()"
   ]
  },
  {
   "cell_type": "code",
   "execution_count": 10,
   "metadata": {},
   "outputs": [
    {
     "data": {
      "text/plain": [
       "'/home/usuario/Documentos/Data Projects/Engenharia de Dados/3D-PRINTER/mercadolivre.db'"
      ]
     },
     "execution_count": 10,
     "metadata": {},
     "output_type": "execute_result"
    }
   ],
   "source": [
    "df = pd.DataFrame({\n",
    "    'Nome': lista_nome,\n",
    "    'qtd_Avaliações': lista_avaliacoes,\n",
    "    'Preco': lista_preco,\n",
    "    'Categoria': lista_categoria,\n",
    "    'Link': lista_link,\n",
    "    'Nota': lista_nota})\n",
    "\n",
    "df = df[df['Nome'] != \"nd\"]\n",
    "\n",
    "con = duckdb.connect(\"mercadolivre.db\")  \n",
    "con.register('produtos', df)"
   ]
  },
  {
   "cell_type": "code",
   "execution_count": null,
   "metadata": {},
   "outputs": [],
   "source": []
  }
 ],
 "metadata": {
  "kernelspec": {
   "display_name": ".venv",
   "language": "python",
   "name": "python3"
  },
  "language_info": {
   "codemirror_mode": {
    "name": "ipython",
    "version": 3
   },
   "file_extension": ".py",
   "mimetype": "text/x-python",
   "name": "python",
   "nbconvert_exporter": "python",
   "pygments_lexer": "ipython3",
   "version": "3.12.1"
  }
 },
 "nbformat": 4,
 "nbformat_minor": 2
}
